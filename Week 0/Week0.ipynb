{
  "nbformat": 4,
  "nbformat_minor": 0,
  "metadata": {
    "colab": {
      "name": "Week0.ipynb",
      "provenance": [],
      "authorship_tag": "ABX9TyPiyDY6da1YsJJuiWlRCKsC",
      "include_colab_link": true
    },
    "kernelspec": {
      "name": "python3",
      "display_name": "Python 3"
    }
  },
  "cells": [
    {
      "cell_type": "markdown",
      "metadata": {
        "id": "view-in-github",
        "colab_type": "text"
      },
      "source": [
        "<a href=\"https://colab.research.google.com/github/radhikasethi2011/30DaysOfLeetCode/blob/master/Week%200/Week0.ipynb\" target=\"_parent\"><img src=\"https://colab.research.google.com/assets/colab-badge.svg\" alt=\"Open In Colab\"/></a>"
      ]
    },
    {
      "cell_type": "markdown",
      "metadata": {
        "id": "l5tUxiNSlNr8",
        "colab_type": "text"
      },
      "source": [
        "During **Week #0**, we will get started with python programming language for Data Science. It will be ideal for beginners/absolute beginners with no coding experience.\n",
        "data Science is not about Python, R, Jupyter, Exce, Notebook, Colab. Data Science is about using the above techniques, inventing new techniques, to solve a problem using **data** in a **scientific** way. "
      ]
    },
    {
      "cell_type": "markdown",
      "metadata": {
        "id": "J65AAkCeu574",
        "colab_type": "text"
      },
      "source": [
        "**Day 0** \\\\\n",
        "**Your first *Hello World* Program**"
      ]
    },
    {
      "cell_type": "code",
      "metadata": {
        "id": "NcpYvVb8gkdT",
        "colab_type": "code",
        "outputId": "6079b24a-2866-45f4-b18d-7fce467d9e3b",
        "colab": {
          "base_uri": "https://localhost:8080/",
          "height": 34
        }
      },
      "source": [
        "print(\"Hello world\") #print('Hello World')"
      ],
      "execution_count": 0,
      "outputs": [
        {
          "output_type": "stream",
          "text": [
            "Hello world\n"
          ],
          "name": "stdout"
        }
      ]
    },
    {
      "cell_type": "markdown",
      "metadata": {
        "id": "UY1yW9OyvFT9",
        "colab_type": "text"
      },
      "source": [
        "**Arithmatic Operations**"
      ]
    },
    {
      "cell_type": "code",
      "metadata": {
        "id": "3urBF3JmkiK6",
        "colab_type": "code",
        "outputId": "b9e3e153-b5f0-4b41-b6a4-29344ce3434f",
        "colab": {
          "base_uri": "https://localhost:8080/",
          "height": 34
        }
      },
      "source": [
        "3+6"
      ],
      "execution_count": 0,
      "outputs": [
        {
          "output_type": "execute_result",
          "data": {
            "text/plain": [
              "9"
            ]
          },
          "metadata": {
            "tags": []
          },
          "execution_count": 2
        }
      ]
    },
    {
      "cell_type": "code",
      "metadata": {
        "id": "5rsq9FR5vXfJ",
        "colab_type": "code",
        "outputId": "09c14d27-d6fe-48c8-dd35-73a965fbc6f4",
        "colab": {
          "base_uri": "https://localhost:8080/",
          "height": 34
        }
      },
      "source": [
        "3*6"
      ],
      "execution_count": 0,
      "outputs": [
        {
          "output_type": "execute_result",
          "data": {
            "text/plain": [
              "18"
            ]
          },
          "metadata": {
            "tags": []
          },
          "execution_count": 1
        }
      ]
    },
    {
      "cell_type": "code",
      "metadata": {
        "id": "Fjx-1zwCvXUU",
        "colab_type": "code",
        "outputId": "8f410dec-a14e-4fad-bcb7-8eaaca6f50a0",
        "colab": {
          "base_uri": "https://localhost:8080/",
          "height": 34
        }
      },
      "source": [
        "6/3"
      ],
      "execution_count": 0,
      "outputs": [
        {
          "output_type": "execute_result",
          "data": {
            "text/plain": [
              "2.0"
            ]
          },
          "metadata": {
            "tags": []
          },
          "execution_count": 2
        }
      ]
    },
    {
      "cell_type": "code",
      "metadata": {
        "id": "r74Be1HPvXII",
        "colab_type": "code",
        "outputId": "1a82d8bf-96d2-4019-ec33-62c49be90c79",
        "colab": {
          "base_uri": "https://localhost:8080/",
          "height": 34
        }
      },
      "source": [
        "6%3"
      ],
      "execution_count": 0,
      "outputs": [
        {
          "output_type": "execute_result",
          "data": {
            "text/plain": [
              "0"
            ]
          },
          "metadata": {
            "tags": []
          },
          "execution_count": 3
        }
      ]
    },
    {
      "cell_type": "markdown",
      "metadata": {
        "id": "U0IU26QYvsA3",
        "colab_type": "text"
      },
      "source": [
        "**Basic Functionalities**"
      ]
    },
    {
      "cell_type": "code",
      "metadata": {
        "id": "rfESj8nJv51Y",
        "colab_type": "code",
        "outputId": "5604f0c5-fa52-4ea2-c892-67dfeb53e1d4",
        "colab": {
          "base_uri": "https://localhost:8080/",
          "height": 34
        }
      },
      "source": [
        "d = \"hello\"\n",
        "d.upper()\n",
        "print(d)"
      ],
      "execution_count": 0,
      "outputs": [
        {
          "output_type": "stream",
          "text": [
            "hello\n"
          ],
          "name": "stdout"
        }
      ]
    },
    {
      "cell_type": "code",
      "metadata": {
        "id": "HIEVAcNhwDTa",
        "colab_type": "code",
        "outputId": "a3d8d911-34fb-49a1-db9f-b8157bd2b138",
        "colab": {
          "base_uri": "https://localhost:8080/",
          "height": 34
        }
      },
      "source": [
        "d.lower()\n",
        "print(d)"
      ],
      "execution_count": 0,
      "outputs": [
        {
          "output_type": "stream",
          "text": [
            "hello\n"
          ],
          "name": "stdout"
        }
      ]
    },
    {
      "cell_type": "code",
      "metadata": {
        "id": "U9BRkoWAwOFc",
        "colab_type": "code",
        "outputId": "4092b9f0-7f18-4f25-9c5a-eb091a9b79e6",
        "colab": {
          "base_uri": "https://localhost:8080/",
          "height": 50
        }
      },
      "source": [
        "#to remove whitespaces from the string beginning and end\n",
        "d = \"   Hello   \"\n",
        "print(\"raw string : \" + d)\n",
        "d = d.strip()\n",
        "print(\"After strip: \"+ d)"
      ],
      "execution_count": 0,
      "outputs": [
        {
          "output_type": "stream",
          "text": [
            "raw string :    Hello   \n",
            "After strip: Hello\n"
          ],
          "name": "stdout"
        }
      ]
    },
    {
      "cell_type": "code",
      "metadata": {
        "id": "_K7VQ7L9Kjsw",
        "colab_type": "code",
        "outputId": "82c97c83-8c51-4325-f68f-7f0ad83d944b",
        "colab": {
          "base_uri": "https://localhost:8080/",
          "height": 67
        }
      },
      "source": [
        "#to print the type of a variable \n",
        "a = 'hello'\n",
        "print(type(a))\n",
        "\n",
        "#basic arithmatic operations\n",
        "x = 36 / 4 * (3 + 2) * 4 + 2\n",
        "print(x)\n"
      ],
      "execution_count": 0,
      "outputs": [
        {
          "output_type": "stream",
          "text": [
            "HELLO\n",
            "<class 'str'>\n",
            "182.0\n"
          ],
          "name": "stdout"
        }
      ]
    },
    {
      "cell_type": "markdown",
      "metadata": {
        "id": "xt8qTUybeI90",
        "colab_type": "text"
      },
      "source": [
        "**Day 1** \\\\\n",
        "**Data Structures, Sequence Types, List, Tuple**"
      ]
    },
    {
      "cell_type": "code",
      "metadata": {
        "id": "Rhcf6iGAeZv5",
        "colab_type": "code",
        "outputId": "82049c35-5db9-451e-c10e-4a405f02d8ef",
        "colab": {
          "base_uri": "https://localhost:8080/",
          "height": 67
        }
      },
      "source": [
        "#list - ordered, multiple data types can be adjusted in a single list.\n",
        "A = [\"Brush\", \"comb\", 3, 72, 3.14]\n",
        "print(A[0]+\" \"+A[1])\n",
        "print(A[2],A[3],A[4])\n",
        "#an index of -1 -> last element of your list. \n",
        "# to print multiple elements from the list: \n",
        "print(A[0:2]) #will return 0,1 , returns a list. [start(inclusive) : end(exclusive)]"
      ],
      "execution_count": 0,
      "outputs": [
        {
          "output_type": "stream",
          "text": [
            "Brush comb\n",
            "3 72 3.14\n",
            "['Brush', 'comb']\n"
          ],
          "name": "stdout"
        }
      ]
    },
    {
      "cell_type": "markdown",
      "metadata": {
        "id": "QOSIfSs1eaCK",
        "colab_type": "text"
      },
      "source": [
        "**Python data types** \\\\\n",
        "1. Float - real numbers \\\\\n",
        "2. Int - integer numbers \\\\\n",
        "3. Str - Strings, text \\\\\n",
        "4. bool - true/false \\\\\n",
        "5. List - collection of different datatypes in a list [ ]\n",
        "\n"
      ]
    },
    {
      "cell_type": "code",
      "metadata": {
        "id": "RjlQYjojsE52",
        "colab_type": "code",
        "colab": {}
      },
      "source": [
        ""
      ],
      "execution_count": 0,
      "outputs": []
    },
    {
      "cell_type": "code",
      "metadata": {
        "id": "YqES1vXHsD0l",
        "colab_type": "code",
        "colab": {}
      },
      "source": [
        ""
      ],
      "execution_count": 0,
      "outputs": []
    }
  ]
}